{
  "nbformat": 4,
  "nbformat_minor": 0,
  "metadata": {
    "colab": {
      "provenance": [],
      "include_colab_link": true
    },
    "kernelspec": {
      "name": "python3",
      "display_name": "Python 3"
    },
    "language_info": {
      "name": "python"
    },
    "accelerator": "GPU",
    "gpuClass": "standard"
  },
  "cells": [
    {
      "cell_type": "markdown",
      "metadata": {
        "id": "view-in-github",
        "colab_type": "text"
      },
      "source": [
        "<a href=\"https://colab.research.google.com/github/Casualite/Neural_network_11th/blob/master/DIP2_proj.ipynb\" target=\"_parent\"><img src=\"https://colab.research.google.com/assets/colab-badge.svg\" alt=\"Open In Colab\"/></a>"
      ]
    },
    {
      "cell_type": "code",
      "source": [
        "from google.colab import drive\n",
        "drive.mount('/content/drive')"
      ],
      "metadata": {
        "colab": {
          "base_uri": "https://localhost:8080/"
        },
        "id": "dEbe5XY0-O6S",
        "outputId": "63637266-8e58-4aa4-e718-341f14d6ef8c"
      },
      "execution_count": null,
      "outputs": [
        {
          "output_type": "stream",
          "name": "stdout",
          "text": [
            "Mounted at /content/drive\n"
          ]
        }
      ]
    },
    {
      "cell_type": "code",
      "source": [
        "!nvidia-smi"
      ],
      "metadata": {
        "colab": {
          "base_uri": "https://localhost:8080/"
        },
        "id": "O8aSvGZ1gje6",
        "outputId": "bf567744-20ab-4813-aff0-e6a897eaae6f"
      },
      "execution_count": null,
      "outputs": [
        {
          "output_type": "stream",
          "name": "stdout",
          "text": [
            "Fri Apr 28 11:02:12 2023       \n",
            "+-----------------------------------------------------------------------------+\n",
            "| NVIDIA-SMI 525.85.12    Driver Version: 525.85.12    CUDA Version: 12.0     |\n",
            "|-------------------------------+----------------------+----------------------+\n",
            "| GPU  Name        Persistence-M| Bus-Id        Disp.A | Volatile Uncorr. ECC |\n",
            "| Fan  Temp  Perf  Pwr:Usage/Cap|         Memory-Usage | GPU-Util  Compute M. |\n",
            "|                               |                      |               MIG M. |\n",
            "|===============================+======================+======================|\n",
            "|   0  Tesla T4            Off  | 00000000:00:04.0 Off |                    0 |\n",
            "| N/A   61C    P8    10W /  70W |      0MiB / 15360MiB |      0%      Default |\n",
            "|                               |                      |                  N/A |\n",
            "+-------------------------------+----------------------+----------------------+\n",
            "                                                                               \n",
            "+-----------------------------------------------------------------------------+\n",
            "| Processes:                                                                  |\n",
            "|  GPU   GI   CI        PID   Type   Process name                  GPU Memory |\n",
            "|        ID   ID                                                   Usage      |\n",
            "|=============================================================================|\n",
            "|  No running processes found                                                 |\n",
            "+-----------------------------------------------------------------------------+\n"
          ]
        }
      ]
    },
    {
      "cell_type": "code",
      "source": [
        "import tensorflow as tf\n",
        "import numpy as np\n",
        "#import tensorflow_addons as tfa"
      ],
      "metadata": {
        "id": "noIWj0CShhbN"
      },
      "execution_count": null,
      "outputs": []
    },
    {
      "cell_type": "code",
      "source": [
        "# def mask_generator(inputs, pool_size=2, strides=2):\n",
        "#     return tf.nn.max_pool_with_argmax(input, ksize=pool_size, strides=strides, padding='SAME')"
      ],
      "metadata": {
        "id": "XBBAO58SFz4V"
      },
      "execution_count": null,
      "outputs": []
    },
    {
      "cell_type": "code",
      "execution_count": null,
      "metadata": {
        "id": "OfUtuKbRfvZA"
      },
      "outputs": [],
      "source": [
        "# Define the encoder model\n",
        "def encoder(input_tensor):\n",
        "    # Convolutional layers\n",
        "    l=[]\n",
        "    x = tf.keras.layers.Conv2D(filters=64, kernel_size=5, padding='same', activation='relu')(input_tensor)\n",
        "    x = tf.keras.layers.Conv2D(filters=64, kernel_size=5, padding='same', activation='relu')(x)\n",
        "    x = tf.keras.layers.MaxPool2D(pool_size =2, strides =2, padding ='same')(x)\n",
        "    #l.append(mask_generator(x))\n",
        "\n",
        "    x = tf.keras.layers.Conv2D(filters=128, kernel_size=5, padding='same', activation='relu')(x)\n",
        "    x = tf.keras.layers.Conv2D(filters=128, kernel_size=5, padding='same', activation='relu')(x)\n",
        "    x = tf.keras.layers.MaxPool2D(pool_size =2, strides =2, padding ='same')(x)\n",
        "    #l.append(mask_generator(x))\n",
        "\n",
        "    x = tf.keras.layers.Conv2D(filters=256, kernel_size=5, padding='same', activation='relu')(x)\n",
        "    x = tf.keras.layers.Conv2D(filters=256, kernel_size=5, padding='same', activation='relu')(x)\n",
        "    x = tf.keras.layers.Conv2D(filters=256, kernel_size=5, padding='same', activation='relu')(x)\n",
        "    x = tf.keras.layers.MaxPool2D(pool_size =2, strides =2, padding ='same')(x)\n",
        "    #l.append(mask_generator(x))\n",
        "\n",
        "    x = tf.keras.layers.Conv2D(filters=512, kernel_size=5, padding='same', activation='relu')(x)\n",
        "    x = tf.keras.layers.Conv2D(filters=512, kernel_size=5, padding='same', activation='relu')(x)\n",
        "    x1 = tf.keras.layers.Conv2D(filters=512, kernel_size=5, padding='same', activation='relu')(x)\n",
        "    x = tf.keras.layers.MaxPool2D(pool_size =2, strides =2, padding ='same')(x1)\n",
        "    #l.append(mask_generator(x))\n",
        "\n",
        "    x = tf.keras.layers.Conv2D(filters=512, kernel_size=5, padding='same', activation='relu')(x)\n",
        "    x = tf.keras.layers.Conv2D(filters=512, kernel_size=5, padding='same', activation='relu')(x)\n",
        "    x = tf.keras.layers.Conv2D(filters=512, kernel_size=5, padding='same', activation='relu')(x)\n",
        "    # Output of encoder\n",
        "    encoded = x\n",
        "    return encoded,x1"
      ]
    },
    {
      "cell_type": "code",
      "source": [
        "def decoder(encoded,output_shape,conv_layer):\n",
        "    # Deconvolutional layers\n",
        "    x = tf.keras.layers.BatchNormalization()(encoded)\n",
        "    x = tf.keras.layers.Conv2DTranspose(filters=512, kernel_size=5, padding='same')(x)\n",
        "    x = tf.keras.layers.BatchNormalization()(x)\n",
        "    x = tf.keras.layers.PReLU()(x)\n",
        "\n",
        "    x = tf.keras.layers.UpSampling2D(size=(2, 2))(x)\n",
        "    x = tf.keras.layers.Concatenate([x,conv_layer])\n",
        "    x = tf.keras.layers.Conv2DTranspose(filters=256, kernel_size=5, padding='same')(x)\n",
        "    x = tf.keras.layers.BatchNormalization()(x)\n",
        "    x = tf.keras.layers.PReLU()(x)\n",
        "\n",
        "    x = tf.keras.layers.UpSampling2D(size=(2, 2))(x)\n",
        "    x = tf.keras.layers.Conv2DTranspose(filters=128, kernel_size=5, padding='same')(x)\n",
        "    x = tf.keras.layers.BatchNormalization()(x)\n",
        "    x = tf.keras.layers.PReLU()(x)\n",
        "\n",
        "    x = tf.keras.layers.UpSampling2D(size=(2, 2))(x)\n",
        "    x = tf.keras.layers.Conv2DTranspose(filters=64, kernel_size=5, padding='same')(x)\n",
        "    x = tf.keras.layers.BatchNormalization()(x)\n",
        "    x = tf.keras.layers.PReLU()(x)\n",
        "\n",
        "    x = tf.keras.layers.UpSampling2D(size=(2, 2))(x)\n",
        "    x = tf.keras.layers.Conv2DTranspose(filters=32, kernel_size=5, padding='same')(x)\n",
        "    x = tf.keras.layers.BatchNormalization()(x)\n",
        "    x = tf.keras.layers.PReLU()(x)\n",
        "\n",
        "    # Output of decoder\n",
        "    decoded = tf.keras.layers.Conv2DTranspose(output_shape[-1], (3, 3), activation='sigmoid', padding='same')(x)\n",
        "    return decoded"
      ],
      "metadata": {
        "id": "VvneTK-xeitt"
      },
      "execution_count": null,
      "outputs": []
    },
    {
      "cell_type": "code",
      "source": [
        "def full_model(input_shape, bg_image_shape):\n",
        "    input = tf.keras.layers.Input(shape=input_shape)\n",
        "    encode,x1 = encoder(input)\n",
        "    decode = decoder(encode,bg_image_shape,x1)\n",
        "    output = tf.keras.layers.Lambda(lambda x: tf.image.resize(x, [bg_image_shape[0], bg_image_shape[1]]))(decode)\n",
        "    return tf.keras.models.Model(inputs=input, outputs=output)\n"
      ],
      "metadata": {
        "id": "AL_6q1p62xzP"
      },
      "execution_count": null,
      "outputs": []
    },
    {
      "cell_type": "code",
      "source": [
        "#@title Default title text\n",
        "batch_size = 16\n",
        "num_epochs = 10\n",
        "def preprocess_cdnet_image(image_path):\n",
        "    image = tf.io.read_file(image_path)\n",
        "    image = tf.image.decode_jpeg(image, channels=3)\n",
        "    image = tf.image.convert_image_dtype(image, tf.float32)\n",
        "    image = tf.image.rgb_to_grayscale(image)\n",
        "    image = tf.image.resize(image, (336, 336))\n",
        "    # print(image)\n",
        "    #image = tf.cast(image/255. ,tf.float32)\n",
        "    return image\n",
        "\n",
        "def load_gt(gt_path):\n",
        "    image = tf.io.read_file(gt_path)\n",
        "    image = tf.image.decode_png(image,channels=1)\n",
        "    image = tf.image.resize(image, (336, 336))\n",
        "    #print(image)\n",
        "    image = tf.image.convert_image_dtype(image, tf.float32)\n",
        "    # image = tf.cast(image/255. ,tf.float32)\n",
        "    return image\n",
        "\n",
        "def generate_combined(image_paths):\n",
        "    prev=preprocess_cdnet_image('/content/drive/MyDrive/baseline/highway/input/in000469.jpg')\n",
        "    back=preprocess_cdnet_image('/content/drive/MyDrive/baseline/highway/in000471.jpg')\n",
        "    for x in range(len(image_paths)):\n",
        "        image = preprocess_cdnet_image(image_paths[x])\n",
        "        #image1=tf.stack([image,prev,back])\n",
        "        image1=tf.concat([image,prev,back],2)\n",
        "        prev=image\n",
        "        np.save('/content/drive/MyDrive/baseline/highway/Updated_dataset1/'+image_paths[x][46:]+'.npy',image1.numpy())\n",
        "\n",
        "\n",
        "def generate_gt(gt_paths):\n",
        "    for x in range(len(gt_paths)):\n",
        "         np.save('/content/drive/MyDrive/baseline/highway/gt_npy/'+gt_paths[x][-12:-4]+'.npy',load_gt(gt_paths[x]).numpy())"
      ],
      "metadata": {
        "id": "2vlPkOv7BahJ"
      },
      "execution_count": null,
      "outputs": []
    },
    {
      "cell_type": "code",
      "source": [
        "import os\n",
        "data_path_train = '/content/drive/MyDrive/baseline'\n",
        "train_path = os.path.join(data_path_train, 'highway', 'input')\n",
        "train_files = sorted(os.listdir(train_path))\n",
        "train_files = [os.path.join(train_path, f) for f in train_files][470:]\n",
        "\n",
        "\n",
        "gt_path = os.path.join(data_path_train, 'highway', 'groundtruth')\n",
        "gt_files = sorted(os.listdir(gt_path))\n",
        "gt_files = [os.path.join(gt_path, f) for f in gt_files][470:]"
      ],
      "metadata": {
        "id": "_lGjgIgAE9F8"
      },
      "execution_count": null,
      "outputs": []
    },
    {
      "cell_type": "code",
      "source": [
        "import os\n",
        "import cv2\n",
        "def load_from_drive(path):\n",
        "    data_path_train = path\n",
        "    train_files = sorted(os.listdir(data_path_train))\n",
        "    train_files = [os.path.join(data_path_train, f) for f in train_files]\n",
        "    return(train_files)\n"
      ],
      "metadata": {
        "id": "uj1o8sycq5HK"
      },
      "execution_count": null,
      "outputs": []
    },
    {
      "cell_type": "code",
      "source": [
        "#generate_combined(train_files)\n",
        "generate_gt(gt_files)"
      ],
      "metadata": {
        "id": "rBl0ASkSu5CU"
      },
      "execution_count": null,
      "outputs": []
    },
    {
      "cell_type": "code",
      "source": [
        "generate_combined(train_files)"
      ],
      "metadata": {
        "id": "wYu6NVTMy6VO"
      },
      "execution_count": null,
      "outputs": []
    },
    {
      "cell_type": "code",
      "source": [
        "#@title Default title text\n",
        "new_ds=load_from_drive('/content/drive/MyDrive/baseline/highway/Updated_dataset1/')\n",
        "gt_ds=load_from_drive('/content/drive/MyDrive/baseline/highway/gt_npy/')"
      ],
      "metadata": {
        "id": "pKMoRZ4Ty-mq"
      },
      "execution_count": null,
      "outputs": []
    },
    {
      "cell_type": "code",
      "source": [
        "len(gt_ds)"
      ],
      "metadata": {
        "colab": {
          "base_uri": "https://localhost:8080/"
        },
        "id": "X_PcxVFFAWFa",
        "outputId": "58f5a0cc-880f-4f27-eae6-140e39af10c4"
      },
      "execution_count": null,
      "outputs": [
        {
          "output_type": "execute_result",
          "data": {
            "text/plain": [
              "1230"
            ]
          },
          "metadata": {},
          "execution_count": 12
        }
      ]
    },
    {
      "cell_type": "code",
      "source": [
        "def map_func(train,gt):\n",
        "    t=np.load(train)\n",
        "    g=np.load(gt)\n",
        "    return(t,g)\n",
        "def _fixup_shape(images, gt):\n",
        "    images.set_shape([336, 336, 3])\n",
        "    gt.set_shape([336, 336, 1]) # I have 19 classes\n",
        "    # weights.set_shape([None])\n",
        "    return images, gt\n",
        "\n",
        "dataset = tf.data.Dataset.from_tensor_slices((new_ds,gt_ds))\n",
        "dataset = dataset.map(lambda item1, item2: tf.numpy_function(map_func, [item1, item2], [tf.float32, tf.float32]),num_parallel_calls=tf.data.experimental.AUTOTUNE)\n",
        "dataset = dataset.map(_fixup_shape)\n",
        "dataset = dataset.shuffle(1000).batch(16)\n",
        "dataset = dataset.prefetch(buffer_size=tf.data.experimental.AUTOTUNE)"
      ],
      "metadata": {
        "id": "l0UP085a0Xnp"
      },
      "execution_count": null,
      "outputs": []
    },
    {
      "cell_type": "code",
      "source": [
        "i=5\n",
        "c=0\n",
        "for e in dataset:\n",
        "  if(c==i):\n",
        "    break\n",
        "  print(e[0].shape,e[1].shape)\n",
        "  c+=1"
      ],
      "metadata": {
        "colab": {
          "base_uri": "https://localhost:8080/"
        },
        "id": "czoXSK0z070T",
        "outputId": "5cc5d964-c0a1-408f-ae80-93a2345ea2f1"
      },
      "execution_count": null,
      "outputs": [
        {
          "output_type": "stream",
          "name": "stdout",
          "text": [
            "(16, 336, 336, 3) (16, 336, 336, 1)\n",
            "(16, 336, 336, 3) (16, 336, 336, 1)\n",
            "(16, 336, 336, 3) (16, 336, 336, 1)\n",
            "(16, 336, 336, 3) (16, 336, 336, 1)\n",
            "(16, 336, 336, 3) (16, 336, 336, 1)\n"
          ]
        }
      ]
    },
    {
      "cell_type": "code",
      "source": [
        "model = full_model([336, 336, 3], [336, 336, 1])\n",
        "model.compile(optimizer=tf.keras.optimizers.Adam(lr=1e-4), loss=\"mean_squared_error\", metrics=[\"accuracy\"])\n",
        "model.summary()"
      ],
      "metadata": {
        "colab": {
          "base_uri": "https://localhost:8080/",
          "height": 397
        },
        "id": "iKBcmEV_Hy2B",
        "outputId": "974a9bc3-1cfb-4c3a-c46e-77024fe64309"
      },
      "execution_count": null,
      "outputs": [
        {
          "output_type": "error",
          "ename": "TypeError",
          "evalue": "ignored",
          "traceback": [
            "\u001b[0;31m---------------------------------------------------------------------------\u001b[0m",
            "\u001b[0;31mTypeError\u001b[0m                                 Traceback (most recent call last)",
            "\u001b[0;32m<ipython-input-29-66bd8aa235d3>\u001b[0m in \u001b[0;36m<cell line: 1>\u001b[0;34m()\u001b[0m\n\u001b[0;32m----> 1\u001b[0;31m \u001b[0mmodel\u001b[0m \u001b[0;34m=\u001b[0m \u001b[0mfull_model\u001b[0m\u001b[0;34m(\u001b[0m\u001b[0;34m[\u001b[0m\u001b[0;36m336\u001b[0m\u001b[0;34m,\u001b[0m \u001b[0;36m336\u001b[0m\u001b[0;34m,\u001b[0m \u001b[0;36m3\u001b[0m\u001b[0;34m]\u001b[0m\u001b[0;34m,\u001b[0m \u001b[0;34m[\u001b[0m\u001b[0;36m336\u001b[0m\u001b[0;34m,\u001b[0m \u001b[0;36m336\u001b[0m\u001b[0;34m,\u001b[0m \u001b[0;36m1\u001b[0m\u001b[0;34m]\u001b[0m\u001b[0;34m)\u001b[0m\u001b[0;34m\u001b[0m\u001b[0;34m\u001b[0m\u001b[0m\n\u001b[0m\u001b[1;32m      2\u001b[0m \u001b[0mmodel\u001b[0m\u001b[0;34m.\u001b[0m\u001b[0mcompile\u001b[0m\u001b[0;34m(\u001b[0m\u001b[0moptimizer\u001b[0m\u001b[0;34m=\u001b[0m\u001b[0mtf\u001b[0m\u001b[0;34m.\u001b[0m\u001b[0mkeras\u001b[0m\u001b[0;34m.\u001b[0m\u001b[0moptimizers\u001b[0m\u001b[0;34m.\u001b[0m\u001b[0mAdam\u001b[0m\u001b[0;34m(\u001b[0m\u001b[0mlr\u001b[0m\u001b[0;34m=\u001b[0m\u001b[0;36m1e-4\u001b[0m\u001b[0;34m)\u001b[0m\u001b[0;34m,\u001b[0m \u001b[0mloss\u001b[0m\u001b[0;34m=\u001b[0m\u001b[0;34m\"mean_squared_error\"\u001b[0m\u001b[0;34m,\u001b[0m \u001b[0mmetrics\u001b[0m\u001b[0;34m=\u001b[0m\u001b[0;34m[\u001b[0m\u001b[0;34m\"accuracy\"\u001b[0m\u001b[0;34m]\u001b[0m\u001b[0;34m)\u001b[0m\u001b[0;34m\u001b[0m\u001b[0;34m\u001b[0m\u001b[0m\n\u001b[1;32m      3\u001b[0m \u001b[0mmodel\u001b[0m\u001b[0;34m.\u001b[0m\u001b[0msummary\u001b[0m\u001b[0;34m(\u001b[0m\u001b[0;34m)\u001b[0m\u001b[0;34m\u001b[0m\u001b[0;34m\u001b[0m\u001b[0m\n",
            "\u001b[0;32m<ipython-input-28-900cf30581e3>\u001b[0m in \u001b[0;36mfull_model\u001b[0;34m(input_shape, bg_image_shape)\u001b[0m\n\u001b[1;32m      2\u001b[0m     \u001b[0minput\u001b[0m \u001b[0;34m=\u001b[0m \u001b[0mtf\u001b[0m\u001b[0;34m.\u001b[0m\u001b[0mkeras\u001b[0m\u001b[0;34m.\u001b[0m\u001b[0mlayers\u001b[0m\u001b[0;34m.\u001b[0m\u001b[0mInput\u001b[0m\u001b[0;34m(\u001b[0m\u001b[0mshape\u001b[0m\u001b[0;34m=\u001b[0m\u001b[0minput_shape\u001b[0m\u001b[0;34m)\u001b[0m\u001b[0;34m\u001b[0m\u001b[0;34m\u001b[0m\u001b[0m\n\u001b[1;32m      3\u001b[0m     \u001b[0mencode\u001b[0m\u001b[0;34m,\u001b[0m\u001b[0mx1\u001b[0m \u001b[0;34m=\u001b[0m \u001b[0mencoder\u001b[0m\u001b[0;34m(\u001b[0m\u001b[0minput\u001b[0m\u001b[0;34m)\u001b[0m\u001b[0;34m\u001b[0m\u001b[0;34m\u001b[0m\u001b[0m\n\u001b[0;32m----> 4\u001b[0;31m     \u001b[0mdecode\u001b[0m \u001b[0;34m=\u001b[0m \u001b[0mdecoder\u001b[0m\u001b[0;34m(\u001b[0m\u001b[0mencode\u001b[0m\u001b[0;34m,\u001b[0m\u001b[0mbg_image_shape\u001b[0m\u001b[0;34m,\u001b[0m\u001b[0mx1\u001b[0m\u001b[0;34m)\u001b[0m\u001b[0;34m\u001b[0m\u001b[0;34m\u001b[0m\u001b[0m\n\u001b[0m\u001b[1;32m      5\u001b[0m     \u001b[0moutput\u001b[0m \u001b[0;34m=\u001b[0m \u001b[0mtf\u001b[0m\u001b[0;34m.\u001b[0m\u001b[0mkeras\u001b[0m\u001b[0;34m.\u001b[0m\u001b[0mlayers\u001b[0m\u001b[0;34m.\u001b[0m\u001b[0mLambda\u001b[0m\u001b[0;34m(\u001b[0m\u001b[0;32mlambda\u001b[0m \u001b[0mx\u001b[0m\u001b[0;34m:\u001b[0m \u001b[0mtf\u001b[0m\u001b[0;34m.\u001b[0m\u001b[0mimage\u001b[0m\u001b[0;34m.\u001b[0m\u001b[0mresize\u001b[0m\u001b[0;34m(\u001b[0m\u001b[0mx\u001b[0m\u001b[0;34m,\u001b[0m \u001b[0;34m[\u001b[0m\u001b[0mbg_image_shape\u001b[0m\u001b[0;34m[\u001b[0m\u001b[0;36m0\u001b[0m\u001b[0;34m]\u001b[0m\u001b[0;34m,\u001b[0m \u001b[0mbg_image_shape\u001b[0m\u001b[0;34m[\u001b[0m\u001b[0;36m1\u001b[0m\u001b[0;34m]\u001b[0m\u001b[0;34m]\u001b[0m\u001b[0;34m)\u001b[0m\u001b[0;34m)\u001b[0m\u001b[0;34m(\u001b[0m\u001b[0mdecode\u001b[0m\u001b[0;34m)\u001b[0m\u001b[0;34m\u001b[0m\u001b[0;34m\u001b[0m\u001b[0m\n\u001b[1;32m      6\u001b[0m     \u001b[0;32mreturn\u001b[0m \u001b[0mtf\u001b[0m\u001b[0;34m.\u001b[0m\u001b[0mkeras\u001b[0m\u001b[0;34m.\u001b[0m\u001b[0mmodels\u001b[0m\u001b[0;34m.\u001b[0m\u001b[0mModel\u001b[0m\u001b[0;34m(\u001b[0m\u001b[0minputs\u001b[0m\u001b[0;34m=\u001b[0m\u001b[0minput\u001b[0m\u001b[0;34m,\u001b[0m \u001b[0moutputs\u001b[0m\u001b[0;34m=\u001b[0m\u001b[0moutput\u001b[0m\u001b[0;34m)\u001b[0m\u001b[0;34m\u001b[0m\u001b[0;34m\u001b[0m\u001b[0m\n",
            "\u001b[0;32m<ipython-input-27-eeae16b867f6>\u001b[0m in \u001b[0;36mdecoder\u001b[0;34m(encoded, output_shape, conv_layer)\u001b[0m\n\u001b[1;32m      8\u001b[0m     \u001b[0mx\u001b[0m \u001b[0;34m=\u001b[0m \u001b[0mtf\u001b[0m\u001b[0;34m.\u001b[0m\u001b[0mkeras\u001b[0m\u001b[0;34m.\u001b[0m\u001b[0mlayers\u001b[0m\u001b[0;34m.\u001b[0m\u001b[0mUpSampling2D\u001b[0m\u001b[0;34m(\u001b[0m\u001b[0msize\u001b[0m\u001b[0;34m=\u001b[0m\u001b[0;34m(\u001b[0m\u001b[0;36m2\u001b[0m\u001b[0;34m,\u001b[0m \u001b[0;36m2\u001b[0m\u001b[0;34m)\u001b[0m\u001b[0;34m)\u001b[0m\u001b[0;34m(\u001b[0m\u001b[0mx\u001b[0m\u001b[0;34m)\u001b[0m\u001b[0;34m\u001b[0m\u001b[0;34m\u001b[0m\u001b[0m\n\u001b[1;32m      9\u001b[0m     \u001b[0mx\u001b[0m \u001b[0;34m=\u001b[0m \u001b[0mtf\u001b[0m\u001b[0;34m.\u001b[0m\u001b[0mkeras\u001b[0m\u001b[0;34m.\u001b[0m\u001b[0mlayers\u001b[0m\u001b[0;34m.\u001b[0m\u001b[0mConcatenate\u001b[0m\u001b[0;34m(\u001b[0m\u001b[0;34m[\u001b[0m\u001b[0mx\u001b[0m\u001b[0;34m,\u001b[0m\u001b[0mconv_layer\u001b[0m\u001b[0;34m]\u001b[0m\u001b[0;34m)\u001b[0m\u001b[0;34m\u001b[0m\u001b[0;34m\u001b[0m\u001b[0m\n\u001b[0;32m---> 10\u001b[0;31m     \u001b[0mx\u001b[0m \u001b[0;34m=\u001b[0m \u001b[0mtf\u001b[0m\u001b[0;34m.\u001b[0m\u001b[0mkeras\u001b[0m\u001b[0;34m.\u001b[0m\u001b[0mlayers\u001b[0m\u001b[0;34m.\u001b[0m\u001b[0mConv2DTranspose\u001b[0m\u001b[0;34m(\u001b[0m\u001b[0mfilters\u001b[0m\u001b[0;34m=\u001b[0m\u001b[0;36m256\u001b[0m\u001b[0;34m,\u001b[0m \u001b[0mkernel_size\u001b[0m\u001b[0;34m=\u001b[0m\u001b[0;36m5\u001b[0m\u001b[0;34m,\u001b[0m \u001b[0mpadding\u001b[0m\u001b[0;34m=\u001b[0m\u001b[0;34m'same'\u001b[0m\u001b[0;34m)\u001b[0m\u001b[0;34m(\u001b[0m\u001b[0mx\u001b[0m\u001b[0;34m)\u001b[0m\u001b[0;34m\u001b[0m\u001b[0;34m\u001b[0m\u001b[0m\n\u001b[0m\u001b[1;32m     11\u001b[0m     \u001b[0mx\u001b[0m \u001b[0;34m=\u001b[0m \u001b[0mtf\u001b[0m\u001b[0;34m.\u001b[0m\u001b[0mkeras\u001b[0m\u001b[0;34m.\u001b[0m\u001b[0mlayers\u001b[0m\u001b[0;34m.\u001b[0m\u001b[0mBatchNormalization\u001b[0m\u001b[0;34m(\u001b[0m\u001b[0;34m)\u001b[0m\u001b[0;34m(\u001b[0m\u001b[0mx\u001b[0m\u001b[0;34m)\u001b[0m\u001b[0;34m\u001b[0m\u001b[0;34m\u001b[0m\u001b[0m\n\u001b[1;32m     12\u001b[0m     \u001b[0mx\u001b[0m \u001b[0;34m=\u001b[0m \u001b[0mtf\u001b[0m\u001b[0;34m.\u001b[0m\u001b[0mkeras\u001b[0m\u001b[0;34m.\u001b[0m\u001b[0mlayers\u001b[0m\u001b[0;34m.\u001b[0m\u001b[0mPReLU\u001b[0m\u001b[0;34m(\u001b[0m\u001b[0;34m)\u001b[0m\u001b[0;34m(\u001b[0m\u001b[0mx\u001b[0m\u001b[0;34m)\u001b[0m\u001b[0;34m\u001b[0m\u001b[0;34m\u001b[0m\u001b[0m\n",
            "\u001b[0;32m/usr/local/lib/python3.10/dist-packages/keras/utils/traceback_utils.py\u001b[0m in \u001b[0;36merror_handler\u001b[0;34m(*args, **kwargs)\u001b[0m\n\u001b[1;32m     68\u001b[0m             \u001b[0;31m# To get the full stack trace, call:\u001b[0m\u001b[0;34m\u001b[0m\u001b[0;34m\u001b[0m\u001b[0m\n\u001b[1;32m     69\u001b[0m             \u001b[0;31m# `tf.debugging.disable_traceback_filtering()`\u001b[0m\u001b[0;34m\u001b[0m\u001b[0;34m\u001b[0m\u001b[0m\n\u001b[0;32m---> 70\u001b[0;31m             \u001b[0;32mraise\u001b[0m \u001b[0me\u001b[0m\u001b[0;34m.\u001b[0m\u001b[0mwith_traceback\u001b[0m\u001b[0;34m(\u001b[0m\u001b[0mfiltered_tb\u001b[0m\u001b[0;34m)\u001b[0m \u001b[0;32mfrom\u001b[0m \u001b[0;32mNone\u001b[0m\u001b[0;34m\u001b[0m\u001b[0;34m\u001b[0m\u001b[0m\n\u001b[0m\u001b[1;32m     71\u001b[0m         \u001b[0;32mfinally\u001b[0m\u001b[0;34m:\u001b[0m\u001b[0;34m\u001b[0m\u001b[0;34m\u001b[0m\u001b[0m\n\u001b[1;32m     72\u001b[0m             \u001b[0;32mdel\u001b[0m \u001b[0mfiltered_tb\u001b[0m\u001b[0;34m\u001b[0m\u001b[0;34m\u001b[0m\u001b[0m\n",
            "\u001b[0;32m/usr/local/lib/python3.10/dist-packages/keras/engine/input_spec.py\u001b[0m in \u001b[0;36massert_input_compatibility\u001b[0;34m(input_spec, inputs, layer_name)\u001b[0m\n\u001b[1;32m    211\u001b[0m         \u001b[0;31m# which does not have a `shape` attribute.\u001b[0m\u001b[0;34m\u001b[0m\u001b[0;34m\u001b[0m\u001b[0m\n\u001b[1;32m    212\u001b[0m         \u001b[0;32mif\u001b[0m \u001b[0;32mnot\u001b[0m \u001b[0mhasattr\u001b[0m\u001b[0;34m(\u001b[0m\u001b[0mx\u001b[0m\u001b[0;34m,\u001b[0m \u001b[0;34m\"shape\"\u001b[0m\u001b[0;34m)\u001b[0m\u001b[0;34m:\u001b[0m\u001b[0;34m\u001b[0m\u001b[0;34m\u001b[0m\u001b[0m\n\u001b[0;32m--> 213\u001b[0;31m             raise TypeError(\n\u001b[0m\u001b[1;32m    214\u001b[0m                 \u001b[0;34mf\"Inputs to a layer should be tensors. Got '{x}' \"\u001b[0m\u001b[0;34m\u001b[0m\u001b[0;34m\u001b[0m\u001b[0m\n\u001b[1;32m    215\u001b[0m                 \u001b[0;34mf\"(of type {type(x)}) as input for layer '{layer_name}'.\"\u001b[0m\u001b[0;34m\u001b[0m\u001b[0;34m\u001b[0m\u001b[0m\n",
            "\u001b[0;31mTypeError\u001b[0m: Inputs to a layer should be tensors. Got '<keras.layers.merging.concatenate.Concatenate object at 0x7fddbc2d5870>' (of type <class 'keras.layers.merging.concatenate.Concatenate'>) as input for layer 'conv2d_transpose_9'."
          ]
        }
      ]
    },
    {
      "cell_type": "code",
      "source": [
        "model.fit(dataset, epochs=5,batch_size=16,shuffle=True)"
      ],
      "metadata": {
        "id": "UW7pHF59MxmQ",
        "colab": {
          "base_uri": "https://localhost:8080/"
        },
        "outputId": "62ac0a22-6817-4c2f-f9c4-c1b2f0eb79ce"
      },
      "execution_count": null,
      "outputs": [
        {
          "output_type": "stream",
          "name": "stdout",
          "text": [
            "Epoch 1/5\n",
            "77/77 [==============================] - 128s 2s/step - loss: 4421.4482 - accuracy: 0.8360\n",
            "Epoch 2/5\n",
            "77/77 [==============================] - 95s 1s/step - loss: 4421.4531 - accuracy: 0.8293\n",
            "Epoch 3/5\n",
            "77/77 [==============================] - 95s 1s/step - loss: 4421.4321 - accuracy: 0.8501\n",
            "Epoch 4/5\n",
            "77/77 [==============================] - 95s 1s/step - loss: 4421.4565 - accuracy: 0.8278\n",
            "Epoch 5/5\n",
            "77/77 [==============================] - 94s 1s/step - loss: 4421.4414 - accuracy: 0.8431\n"
          ]
        },
        {
          "output_type": "execute_result",
          "data": {
            "text/plain": [
              "<keras.callbacks.History at 0x7fd5500e0610>"
            ]
          },
          "metadata": {},
          "execution_count": 21
        }
      ]
    },
    {
      "cell_type": "code",
      "source": [
        "model.save_weights('/content/drive/MyDrive/baseline/checkpoints/')"
      ],
      "metadata": {
        "id": "uASMOaTffGTr"
      },
      "execution_count": null,
      "outputs": []
    },
    {
      "cell_type": "code",
      "source": [
        "model.load_weights('/content/drive/MyDrive/baseline/checkpoints/')"
      ],
      "metadata": {
        "colab": {
          "base_uri": "https://localhost:8080/"
        },
        "id": "Bcw5uD3cQheB",
        "outputId": "a828b9c7-0a78-46c3-db7e-f4d3a5e7fb3e"
      },
      "execution_count": null,
      "outputs": [
        {
          "output_type": "execute_result",
          "data": {
            "text/plain": [
              "<tensorflow.python.checkpoint.checkpoint.CheckpointLoadStatus at 0x7ff4e81da890>"
            ]
          },
          "metadata": {},
          "execution_count": 12
        }
      ]
    },
    {
      "cell_type": "code",
      "source": [
        "model.fit(dataset, epochs=5,batch_size=16,shuffle=True)"
      ],
      "metadata": {
        "id": "EEzh_Pg0Pwx4"
      },
      "execution_count": null,
      "outputs": []
    },
    {
      "cell_type": "code",
      "source": [
        "i=5\n",
        "c=0\n",
        "y=None\n",
        "X=None\n",
        "for e in dataset:\n",
        "  X=e[0]\n",
        "  y=model.predict(e[0])\n",
        "  break"
      ],
      "metadata": {
        "id": "lNhHxM6xt1Xd",
        "colab": {
          "base_uri": "https://localhost:8080/"
        },
        "outputId": "bb90247a-833a-4809-9886-f203eb23f891"
      },
      "execution_count": null,
      "outputs": [
        {
          "output_type": "stream",
          "name": "stdout",
          "text": [
            "1/1 [==============================] - 24s 24s/step\n"
          ]
        }
      ]
    },
    {
      "cell_type": "code",
      "source": [
        "X.shape,y.shape"
      ],
      "metadata": {
        "colab": {
          "base_uri": "https://localhost:8080/"
        },
        "id": "jjoVrU0lRo3R",
        "outputId": "21c415f5-ed2e-40c4-9242-66704335d4a2"
      },
      "execution_count": null,
      "outputs": [
        {
          "output_type": "execute_result",
          "data": {
            "text/plain": [
              "(TensorShape([16, 336, 336, 3]), (16, 336, 336, 1))"
            ]
          },
          "metadata": {},
          "execution_count": 23
        }
      ]
    },
    {
      "cell_type": "code",
      "source": [
        "np.squeeze(np.uint8(y[5]*255)).T"
      ],
      "metadata": {
        "colab": {
          "base_uri": "https://localhost:8080/",
          "height": 171
        },
        "id": "Dgpcke-IOCfh",
        "outputId": "89cfb1a7-077a-48a5-b58a-c01545215c57"
      },
      "execution_count": null,
      "outputs": [
        {
          "output_type": "error",
          "ename": "NameError",
          "evalue": "ignored",
          "traceback": [
            "\u001b[0;31m---------------------------------------------------------------------------\u001b[0m",
            "\u001b[0;31mNameError\u001b[0m                                 Traceback (most recent call last)",
            "\u001b[0;32m<ipython-input-16-4b53e3807c35>\u001b[0m in \u001b[0;36m<cell line: 1>\u001b[0;34m()\u001b[0m\n\u001b[0;32m----> 1\u001b[0;31m \u001b[0mnp\u001b[0m\u001b[0;34m.\u001b[0m\u001b[0msqueeze\u001b[0m\u001b[0;34m(\u001b[0m\u001b[0mnp\u001b[0m\u001b[0;34m.\u001b[0m\u001b[0muint8\u001b[0m\u001b[0;34m(\u001b[0m\u001b[0my\u001b[0m\u001b[0;34m[\u001b[0m\u001b[0;36m5\u001b[0m\u001b[0;34m]\u001b[0m\u001b[0;34m*\u001b[0m\u001b[0;36m255\u001b[0m\u001b[0;34m)\u001b[0m\u001b[0;34m)\u001b[0m\u001b[0;34m.\u001b[0m\u001b[0mT\u001b[0m\u001b[0;34m\u001b[0m\u001b[0;34m\u001b[0m\u001b[0m\n\u001b[0m",
            "\u001b[0;31mNameError\u001b[0m: name 'y' is not defined"
          ]
        }
      ]
    },
    {
      "cell_type": "code",
      "source": [
        "X[1].numpy().T[1]"
      ],
      "metadata": {
        "colab": {
          "base_uri": "https://localhost:8080/"
        },
        "id": "YsKPm89GSv-7",
        "outputId": "d7886042-0495-4f40-a1ce-1df55d92a3df"
      },
      "execution_count": null,
      "outputs": [
        {
          "output_type": "execute_result",
          "data": {
            "text/plain": [
              "array([[0.30217254, 0.25735912, 0.20259038, ..., 0.47013727, 0.38137594,\n",
              "        0.30519336],\n",
              "       [0.10919465, 0.11847743, 0.13132899, ..., 0.42592368, 0.31427574,\n",
              "        0.22144823],\n",
              "       [0.12543952, 0.12111823, 0.11499076, ..., 0.38551128, 0.2627269 ,\n",
              "        0.16664511],\n",
              "       ...,\n",
              "       [0.3006406 , 0.46223578, 0.6319638 , ..., 0.34426045, 0.37526432,\n",
              "        0.41703668],\n",
              "       [0.28875715, 0.45232624, 0.62608796, ..., 0.41977665, 0.44723186,\n",
              "        0.4794007 ],\n",
              "       [0.2851161 , 0.4486852 , 0.62244695, ..., 0.43277985, 0.40770036,\n",
              "        0.39201573]], dtype=float32)"
            ]
          },
          "metadata": {},
          "execution_count": 25
        }
      ]
    },
    {
      "cell_type": "code",
      "source": [
        "from PIL import Image\n",
        "import numpy as np\n",
        "img1=Image.fromarray(np.uint8(X[5].numpy().T[0]*255), 'L')\n",
        "img2=Image.fromarray(np.squeeze(np.uint8(y[5]*255)).T, 'L')"
      ],
      "metadata": {
        "id": "OH68ZDsFRB-5"
      },
      "execution_count": null,
      "outputs": []
    },
    {
      "cell_type": "code",
      "source": [
        "img1.show()\n",
        "img2.show()"
      ],
      "metadata": {
        "colab": {
          "base_uri": "https://localhost:8080/",
          "height": 689
        },
        "id": "BAzPYK-5TGqn",
        "outputId": "9b429bdb-3576-4735-da1c-66b5cbe14a6b"
      },
      "execution_count": null,
      "outputs": [
        {
          "output_type": "display_data",
          "data": {
            "text/plain": [
              "<PIL.Image.Image image mode=L size=336x336 at 0x7FF459A1EF50>"
            ],
            "image/png": "[encoded data removed]"
          },
          "metadata": {}
        },
        {
          "output_type": "display_data",
          "data": {
            "text/plain": [
              "<PIL.Image.Image image mode=L size=336x336 at 0x7FF459A1DD50>"
            ],
            "image/png": "[encoded data removed]"
          },
          "metadata": {}
        }
      ]
    }
  ]
}